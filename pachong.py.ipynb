{
 "cells": [
  {
   "cell_type": "code",
   "execution_count": 51,
   "metadata": {},
   "outputs": [
    {
     "name": "stdout",
     "output_type": "stream",
     "text": [
      "[('Identification and characterization of the phosphatidic acid binding A. thaliana phosphoprotein PLDrp1 which is regulated by PLDα1 in a stress dependent manner.', 'Ufer G, Gertzmann A, Gasulla F, Röhrig H, Bartels D.', 'Plant J. 2017 Jul 29. doi: 10.1111/tpj.13651. [Epub ahead of print]', 'Plant J', '28755507'), ('A novel family of proline/serine-rich proteins, which are phospho-targets of stress-related mitogen-activated protein kinases, differentially regulates growth and pathogen defense in Arabidopsis thaliana.', 'Palm-Forster MAT, Eschen-Lippold L, Uhrig J, Scheel D, Lee J.', 'Plant Mol Biol. 2017 Jul 28. doi: 10.1007/s11103-017-0641-5. [Epub ahead of print]', 'Plant Mol Biol', '28755319'), ('Over-expression of the RieskeFeS protein increases electron transport rates and biomass yield.', 'Simkin AJ, McAusland L, Lawson T, Raines CA.', 'Plant Physiol. 2017 Jul 28. pii: pp.00622.2017. doi: 10.1104/pp.17.00622. [Epub ahead of print]', 'Plant Physiol', '28754840'), ('Small RNA profiling reveals important roles for miRNAs in Arabidopsis response to Bacillus velezensis FZB42.', 'Xie S, Jiang H, Xu Z, Xu Q, Cheng B.', 'Gene. 2017 Jul 25. pii: S0378-1119(17)30600-5. doi: 10.1016/j.gene.2017.07.064. [Epub ahead of print]', 'Gene', '28754632'), ('Plant G-protein β subunits positively regulate drought tolerance by elevating detoxification of ROS.', 'Liu C, Xu Y, Long D, Cao B, Hou J, Xiang Z, Zhao A.', 'Biochem Biophys Res Commun. 2017 Jul 25. pii: S0006-291X(17)31491-2. doi: 10.1016/j.bbrc.2017.07.133. [Epub ahead of print]', 'Biochem Biophys Res Commun', '28754592'), ('Overexpression of Arabidopsis FLOWERING LOCUS T (FT) gene improves floral development in cassava (Manihot esculenta, Crantz).', 'Adeyemo OS, Chavarriaga P, Tohme J, Fregene M, Davis SJ, Setter TL.', 'PLoS One. 2017 Jul 28;12(7):e0181460. doi: 10.1371/journal.pone.0181460. eCollection 2017.', 'PLoS One', '28753668'), ('β-carbonic anhydrases play a role in salicylic acid perception in Arabidopsis.', 'Medina-Puche L, Castelló MJ, Canet JV, Lamilla J, Colombo ML, Tornero P.', 'PLoS One. 2017 Jul 28;12(7):e0181820. doi: 10.1371/journal.pone.0181820. eCollection 2017.', 'PLoS One', '28753666'), ('Golgi α1,4-Fucosyltransferase of Arabidopsis thaliana partially localizes at the nuclear envelope.', 'Rips S, Frank M, Elting A, Offenborn JN, von Schaewen A.', 'Traffic. 2017 Jul 28. doi: 10.1111/tra.12506. [Epub ahead of print]', 'Traffic', '28753226'), ('Interacting effects of genetic variation for seed dormancy and flowering time on phenology, life history, and fitness of experimental Arabidopsis thaliana populations over multiple generations in the field.', 'Taylor MA, Cooper MD, Sellamuthu R, Braun P, Migneault A, Browning A, Perry E, Schmitt J.', 'New Phytol. 2017 Jul 28. doi: 10.1111/nph.14712. [Epub ahead of print]', 'New Phytol', '28752957'), ('CYCLING DOF FACTOR 1 represses transcription through the TOPLESS co-repressor to control photoperiodic flowering in Arabidopsis.', 'Goralogia GS, Liu T, Zhao L, Panipinto PM, Groover ED, Bains YS, Imaizumi T.', 'Plant J. 2017 Jul 28. doi: 10.1111/tpj.13649. [Epub ahead of print]', 'Plant J', '28752516'), ('Papain-like cysteine protease encoding genes in rubber (Hevea brasiliensis): comparative genomics, phylogenetic, and transcriptional profiling analysis.', 'Zou Z, Xie G, Yang L.', 'Planta. 2017 Jul 27. doi: 10.1007/s00425-017-2739-z. [Epub ahead of print]', 'Planta', '28752264'), ('Evolution of Daily Gene Co-expression Patterns from Algae to Plants.', 'de Los Reyes P, Romero-Campero FJ, Ruiz MT, Romero JM, Valverde F.', 'Front Plant Sci. 2017 Jul 13;8:1217. doi: 10.3389/fpls.2017.01217. eCollection 2017.', 'Front Plant Sci', '28751903'), ('Functional Characterization of <i>TaSnRK2.8</i> Promoter in Response to Abiotic Stresses by Deletion Analysis in Transgenic <i>Arabidopsis</i>.', 'Zhang H, Jing R, Mao X.', 'Front Plant Sci. 2017 Jul 13;8:1198. doi: 10.3389/fpls.2017.01198. eCollection 2017.', 'Front Plant Sci', '28751901'), ('Conserved Function of Fibrillin5 in the Plastoquinone-9 Biosynthetic Pathway in Arabidopsis and Rice.', 'Kim EH, Lee DW, Lee KR, Jung SJ, Jeon JS, Kim HU.', 'Front Plant Sci. 2017 Jul 13;8:1197. doi: 10.3389/fpls.2017.01197. eCollection 2017.', 'Front Plant Sci', '28751900'), ('Characterization and expression analysis of the WRKY gene family in moso bamboo.', 'Li L, Mu S, Cheng Z, Cheng Y, Zhang Y, Miao Y, Hou C, Li X, Gao J.', 'Sci Rep. 2017 Jul 27;7(1):6675. doi: 10.1038/s41598-017-06701-2.', 'Sci Rep', '28751687'), ('SCYL2 genes are involved in clathrin-mediated vesicle trafficking and essential for plant growth.', 'Jung JY, Lee DW, Ryu SB, Hwang I, Schachtman DP.', 'Plant Physiol. 2017 Jul 27. pii: pp.00824.2017. doi: 10.1104/pp.17.00824. [Epub ahead of print]', 'Plant Physiol', '28751315'), ('Genome-wide analysis of basic/helix-loop-helix gene family in peanut and assessment of its roles in pod development.', 'Gao C, Sun J, Wang C, Dong Y, Xiao S, Wang X, Jiao Z.', 'PLoS One. 2017 Jul 27;12(7):e0181843. doi: 10.1371/journal.pone.0181843. eCollection 2017.', 'PLoS One', '28750081'), ('Endocytosis of AtRGS1 Is Regulated by the Autophagy Pathway after D-Glucose Stimulation.', 'Yan Q, Wang J, Fu ZQ, Chen W.', 'Front Plant Sci. 2017 Jul 12;8:1229. doi: 10.3389/fpls.2017.01229. eCollection 2017.', 'Front Plant Sci', '28747924'), ('Root-Knot and Cyst Nematodes Activate Procambium-Associated Genes in <i>Arabidopsis</i> Roots.', 'Yamaguchi YL, Suzuki R, Cabrera J, Nakagami S, Sagara T, Ejima C, Sano R, Aoki Y, Olmo R, Kurata T, Obayashi T, Demura T, Ishida T, Escobar C, Sawa S.', 'Front Plant Sci. 2017 Jul 13;8:1195. doi: 10.3389/fpls.2017.01195. eCollection 2017.', 'Front Plant Sci', '28747918'), ('<i>Piriformospora indica</i> Reprograms Gene Expression in Arabidopsis Phosphate Metabolism Mutants But Does Not Compensate for Phosphate Limitation.', 'Bakshi M, Sherameti I, Meichsner D, Thürich J, Varma A, Johri AK, Yeh KW, Oelmüller R.', 'Front Microbiol. 2017 Jul 12;8:1262. doi: 10.3389/fmicb.2017.01262. eCollection 2017.', 'Front Microbiol', '28747898')]\n"
     ]
    }
   ],
   "source": [
    "#coding=utf-8\n",
    "import requests\n",
    "import os,sys\n",
    "from bs4 import BeautifulSoup\n",
    "import lxml\n",
    "\n",
    "all = []\n",
    "\n",
    "name = str('Arabidopsis+thaliana')\n",
    "\n",
    "ncbi = requests.get(url='https://www.ncbi.nlm.nih.gov/pubmed/?term='+name)\n",
    "txt = ncbi.text\n",
    "\n",
    "soup = BeautifulSoup(txt,\"lxml\")\n",
    "\n",
    "title = soup.select('p[class=\"title\"]')\n",
    "name = soup.select('p[class=\"desc\"]')\n",
    "time = soup.select('p[class=\"details\"]')\n",
    "paper = soup.select('span[class=\"jrnl\"]')\n",
    "id = soup.select('dd')\n",
    "\n",
    "for i in range(len(title)):\n",
    "    xinxi = (title[i].get_text(),name[i].get_text(),time[i].get_text(),paper[i].get_text(),id[i].get_text())\n",
    "    all.append(xinxi)\n",
    "    \n",
    "print(all)\n",
    "#print (soup.find_all('a'))\n",
    "\n"
   ]
  },
  {
   "cell_type": "code",
   "execution_count": 6,
   "metadata": {},
   "outputs": [
    {
     "name": "stdout",
     "output_type": "stream",
     "text": [
      "[]\n"
     ]
    }
   ],
   "source": [
    "#coding=utf-8\n",
    "import requests\n",
    "import os,sys\n",
    "from bs4 import BeautifulSoup\n",
    "import lxml\n",
    "\n",
    "name = str('Arabidopsis+thaliana')\n",
    "\n",
    "ncbi = requests.get(url='https://www.ncbi.nlm.nih.gov/pubmed/?term='+name)\n",
    "txt = ncbi.text\n",
    "\n",
    "soup = BeautifulSoup(txt,\"lxml\")\n",
    "\n",
    "\n",
    "alla = soup.find_all('a genome')\n",
    "print (alla)"
   ]
  },
  {
   "cell_type": "code",
   "execution_count": 8,
   "metadata": {},
   "outputs": [
    {
     "ename": "SyntaxError",
     "evalue": "invalid character in identifier (<ipython-input-8-07be46b03796>, line 6)",
     "output_type": "error",
     "traceback": [
      "\u001b[0;36m  File \u001b[0;32m\"<ipython-input-8-07be46b03796>\"\u001b[0;36m, line \u001b[0;32m6\u001b[0m\n\u001b[0;31m    websiteurl=url\u001b[0m\n\u001b[0m             ^\u001b[0m\n\u001b[0;31mSyntaxError\u001b[0m\u001b[0;31m:\u001b[0m invalid character in identifier\n"
     ]
    }
   ],
   "source": [
    "from bs4 import BeautifulSoup\n",
    "import time,re,urllib2\n",
    "t=time.time()\n",
    "websiteurls={}\n",
    "def scanpage(url):\n",
    "  websiteurl=url\n",
    "  t=time.time()\n",
    "  n=0\n",
    "  html=urllib2.urlopen(websiteurl).read()\n",
    "  soup=BeautifulSoup(html)\n",
    "  pageurls=[]\n",
    "  Upageurls={}\n",
    "  pageurls=soup.find_all(\"a\",href=True)\n",
    "  for links in pageurls:\n",
    "    if websiteurl in links.get(\"href\") and links.get(\"href\") not in Upageurls and links.get(\"href\") not in websiteurls:\n",
    "      Upageurls[links.get(\"href\")]=0\n",
    "  for links in Upageurls.keys():\n",
    "    try:\n",
    "      urllib2.urlopen(links).getcode()\n",
    "    except:\n",
    "      print \"connect failed\"\n",
    "    else:\n",
    "      t2=time.time()\n",
    "      Upageurls[links]=urllib2.urlopen(links).getcode()\n",
    "      print n,\n",
    "      print links,\n",
    "      print Upageurls[links]\n",
    "      t1=time.time()\n",
    "      print t1-t2\n",
    "    n+=1\n",
    "  print (\"total is \"+repr(n)+\" links\")\n",
    "  print time.time()-t\n",
    "scanpage(\"http://news.163.com/\")"
   ]
  },
  {
   "cell_type": "code",
   "execution_count": null,
   "metadata": {
    "collapsed": true
   },
   "outputs": [],
   "source": [
    "import os,sys\n",
    "\n"
   ]
  }
 ],
 "metadata": {
  "kernelspec": {
   "display_name": "Python 3",
   "language": "python",
   "name": "python3"
  },
  "language_info": {
   "codemirror_mode": {
    "name": "ipython",
    "version": 3
   },
   "file_extension": ".py",
   "mimetype": "text/x-python",
   "name": "python",
   "nbconvert_exporter": "python",
   "pygments_lexer": "ipython3",
   "version": "3.6.1"
  }
 },
 "nbformat": 4,
 "nbformat_minor": 2
}
