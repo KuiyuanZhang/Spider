{
 "cells": [
  {
   "cell_type": "code",
   "execution_count": 1,
   "metadata": {
    "collapsed": true
   },
   "outputs": [],
   "source": [
    "import requests\n",
    "from lxml import etree\n",
    "\n",
    "start_url = 'http://tj.58.com/sale.shtml'\n",
    "url_host = 'http://tj.58.com'\n",
    "\n",
    "def get_channel_urls(url):\n",
    "    html = requests.get(url)\n",
    "    selector = etree.HTML(html.text)\n",
    "    infos = selector.xpath('//div[@class=\"lbsear\"]/div/ul/li')\n",
    "\n",
    "    for info in infos:\n",
    "        class_urls = info.xpath('ul/li/b/a/@href')\n",
    "        for class_url in class_urls:\n",
    "            print(url_host + class_url)\n",
    "\n",
    "\n",
    "\n",
    "# get_channel_urls(start_url)\n",
    "\n",
    "channel_list = '''\n",
    "    http://tj.58.com/shouji/\n",
    "    http://tj.58.com/tongxunyw/\n",
    "'''"
   ]
  },
  {
   "cell_type": "code",
   "execution_count": 6,
   "metadata": {},
   "outputs": [
    {
     "ename": "NameError",
     "evalue": "name 'random' is not defined",
     "output_type": "error",
     "traceback": [
      "\u001b[0;31m---\u001b[0m",
      "\u001b[0;31mNameError\u001b[0mTraceback (most recent call last)",
      "\u001b[0;32m<ipython-input-6-7a1ae98daed4>\u001b[0m in \u001b[0;36m<module>\u001b[0;34m()\u001b[0m\n\u001b[1;32m     21\u001b[0m     \u001b[0;34m'http://123.234.219.133'\u001b[0m\u001b[0;34m\u001b[0m\u001b[0m\n\u001b[1;32m     22\u001b[0m ]\n\u001b[0;32m---> 23\u001b[0;31m \u001b[0mproxy_ip\u001b[0m \u001b[0;34m=\u001b[0m \u001b[0mrandom\u001b[0m\u001b[0;34m.\u001b[0m\u001b[0mchoice\u001b[0m\u001b[0;34m(\u001b[0m\u001b[0mproxy_list\u001b[0m\u001b[0;34m)\u001b[0m\u001b[0;34m\u001b[0m\u001b[0m\n\u001b[0m\u001b[1;32m     24\u001b[0m \u001b[0mproxies\u001b[0m \u001b[0;34m=\u001b[0m \u001b[0;34m{\u001b[0m\u001b[0;34m'http'\u001b[0m\u001b[0;34m:\u001b[0m\u001b[0mproxy_ip\u001b[0m\u001b[0;34m}\u001b[0m\u001b[0;34m\u001b[0m\u001b[0m\n\u001b[1;32m     25\u001b[0m \u001b[0;34m\u001b[0m\u001b[0m\n",
      "\u001b[0;31mNameError\u001b[0m: name 'random' is not defined"
     ]
    }
   ],
   "source": [
    "import requests\n",
    "from lxml import etree\n",
    "import time\n",
    "import pymongo\n",
    "# import random\n",
    "\n",
    "client = pymongo.MongoClient('localhost', 27017)\n",
    "test = client['test']\n",
    "tongcheng = test['tongcheng']\n",
    "\n",
    "headers = {\n",
    "    'User-Agent':'Mozilla/5.0 (Windows NT 6.1; WOW64) AppleWebKit/537.36 (KHTML, like Gecko) Chrome/55.0.2883.87 Safari/537.36',\n",
    "    'Connection':'keep-alive'\n",
    "}\n",
    "\n",
    "proxy_list = [\n",
    "    'http://218.56.132.158',\n",
    "    'http://115.47.44.102',\n",
    "    'http://118.144.149.200',\n",
    "    'http://222.223.239.135',\n",
    "    'http://123.234.219.133'\n",
    "]\n",
    "proxy_ip = random.choice(proxy_list)\n",
    "proxies = {'http':proxy_ip}\n",
    "\n",
    "def get_links_from(channel,pages):\n",
    "    list_view = '{}pn{}/'.format(channel,str(pages))\n",
    "    try:\n",
    "        html = requests.get(list_view,headers=headers)\n",
    "        time.sleep(2)\n",
    "        selector = etree.HTML(html.text)\n",
    "        if selector.xpath('//tr'):\n",
    "            infos = selector.xpath('//tr')\n",
    "            for info in infos:\n",
    "                if info.xpath('td[2]/a/@href'):\n",
    "                    url = info.xpath('td[2]/a/@href')[0]\n",
    "                    get_info(url)\n",
    "                else:pass\n",
    "        else:\n",
    "            pass\n",
    "    except requests.exceptions.ConnectionError:pass\n",
    "\n",
    "def get_info(url):\n",
    "    html = requests.get(url,headers=headers)\n",
    "    selector = etree.HTML(html.text)\n",
    "    try:\n",
    "        title = selector.xpath('//h1/text()')[0]\n",
    "        if selector.xpath('//span[@class=\"price_now\"]/i/text()'):\n",
    "            price = selector.xpath('//span[@class=\"price_now\"]/i/text()')[0]\n",
    "        else:\n",
    "            price = \"无\"\n",
    "        if selector.xpath('//div[@class=\"palce_li\"]/span/i/text()'):\n",
    "            area = selector.xpath('//div[@class=\"palce_li\"]/span/i/text()')[0]\n",
    "        else:\n",
    "            area = \"无\"\n",
    "        view = selector.xpath('//p/span[1]/text()')[0]\n",
    "        if selector.xpath('//p/span[2]/text()'):\n",
    "            want = selector.xpath('//p/span[2]/text()')[0]\n",
    "        else:\n",
    "            want = \"无\"\n",
    "        info = {\n",
    "            'tittle':title,\n",
    "            'price':price,\n",
    "            'area':area,\n",
    "            'view':view,\n",
    "            'want':want,\n",
    "            'url':url\n",
    "        }\n",
    "        tongcheng.insert_one(info)\n",
    "\n",
    "    except IndexError:\n",
    "        pass"
   ]
  },
  {
   "cell_type": "code",
   "execution_count": 7,
   "metadata": {},
   "outputs": [
    {
     "ename": "ServerSelectionTimeoutError",
     "evalue": "localhost:27017: [Errno 61] Connection refused",
     "output_type": "error",
     "traceback": [
      "\u001b[0;31m---\u001b[0m",
      "\u001b[0;31mRemoteTraceback\u001b[0mTraceback (most recent call last)",
      "\u001b[0;31mRemoteTraceback\u001b[0m: \n\"\"\"\nTraceback (most recent call last):\n  File \"/Users/kyzhang/anaconda/lib/python3.6/multiprocessing/pool.py\", line 119, in worker\n    result = (True, func(*args, **kwds))\n  File \"/Users/kyzhang/anaconda/lib/python3.6/multiprocessing/pool.py\", line 44, in mapstar\n    return list(map(*args))\n  File \"<ipython-input-7-96512f7008ab>\", line 7, in get_all_links_from\n    get_links_from(channel,num)\n  File \"<ipython-input-2-fb71fd72adc0>\", line 37, in get_links_from\n    get_info(url)\n  File \"<ipython-input-2-fb71fd72adc0>\", line 69, in get_info\n    tongcheng.insert_one(info)\n  File \"/Users/kyzhang/anaconda/lib/python3.6/site-packages/pymongo/collection.py\", line 682, in insert_one\n    session=session),\n  File \"/Users/kyzhang/anaconda/lib/python3.6/site-packages/pymongo/collection.py\", line 598, in _insert\n    bypass_doc_val, session)\n  File \"/Users/kyzhang/anaconda/lib/python3.6/site-packages/pymongo/collection.py\", line 578, in _insert_one\n    True, _insert_command, session)\n  File \"/Users/kyzhang/anaconda/lib/python3.6/site-packages/pymongo/mongo_client.py\", line 1098, in _retryable_write\n    with self._tmp_session(session) as s:\n  File \"/Users/kyzhang/anaconda/lib/python3.6/contextlib.py\", line 82, in __enter__\n    return next(self.gen)\n  File \"/Users/kyzhang/anaconda/lib/python3.6/site-packages/pymongo/mongo_client.py\", line 1404, in _tmp_session\n    s = self._ensure_session(session)\n  File \"/Users/kyzhang/anaconda/lib/python3.6/site-packages/pymongo/mongo_client.py\", line 1391, in _ensure_session\n    return self.start_session(causal_consistency=False)\n  File \"/Users/kyzhang/anaconda/lib/python3.6/site-packages/pymongo/mongo_client.py\", line 1369, in start_session\n    server_session = self._get_server_session()\n  File \"/Users/kyzhang/anaconda/lib/python3.6/site-packages/pymongo/mongo_client.py\", line 1377, in _get_server_session\n    return self._topology.get_server_session()\n  File \"/Users/kyzhang/anaconda/lib/python3.6/site-packages/pymongo/topology.py\", line 416, in get_server_session\n    None)\n  File \"/Users/kyzhang/anaconda/lib/python3.6/site-packages/pymongo/topology.py\", line 199, in _select_servers_loop\n    self._error_message(selector))\npymongo.errors.ServerSelectionTimeoutError: localhost:27017: [Errno 61] Connection refused\n\"\"\"",
      "\nThe above exception was the direct cause of the following exception:\n",
      "\u001b[0;31mServerSelectionTimeoutError\u001b[0mTraceback (most recent call last)",
      "\u001b[0;32m<ipython-input-7-96512f7008ab>\u001b[0m in \u001b[0;36m<module>\u001b[0;34m()\u001b[0m\n\u001b[1;32m     10\u001b[0m \u001b[0;34m\u001b[0m\u001b[0m\n\u001b[1;32m     11\u001b[0m     \u001b[0mpool\u001b[0m \u001b[0;34m=\u001b[0m \u001b[0mPool\u001b[0m\u001b[0;34m(\u001b[0m\u001b[0;34m)\u001b[0m\u001b[0;34m\u001b[0m\u001b[0m\n\u001b[0;32m---> 12\u001b[0;31m     \u001b[0mpool\u001b[0m\u001b[0;34m.\u001b[0m\u001b[0mmap\u001b[0m\u001b[0;34m(\u001b[0m\u001b[0mget_all_links_from\u001b[0m\u001b[0;34m,\u001b[0m\u001b[0mchannel_list\u001b[0m\u001b[0;34m.\u001b[0m\u001b[0msplit\u001b[0m\u001b[0;34m(\u001b[0m\u001b[0;34m)\u001b[0m\u001b[0;34m)\u001b[0m\u001b[0;34m\u001b[0m\u001b[0m\n\u001b[0m",
      "\u001b[0;32m/Users/kyzhang/anaconda/lib/python3.6/multiprocessing/pool.py\u001b[0m in \u001b[0;36mmap\u001b[0;34m(self, func, iterable, chunksize)\u001b[0m\n\u001b[1;32m    258\u001b[0m         \u001b[0;32min\u001b[0m \u001b[0ma\u001b[0m \u001b[0mlist\u001b[0m \u001b[0mthat\u001b[0m \u001b[0;32mis\u001b[0m \u001b[0mreturned\u001b[0m\u001b[0;34m.\u001b[0m\u001b[0;34m\u001b[0m\u001b[0m\n\u001b[1;32m    259\u001b[0m         '''\n\u001b[0;32m--> 260\u001b[0;31m         \u001b[0;32mreturn\u001b[0m \u001b[0mself\u001b[0m\u001b[0;34m.\u001b[0m\u001b[0m_map_async\u001b[0m\u001b[0;34m(\u001b[0m\u001b[0mfunc\u001b[0m\u001b[0;34m,\u001b[0m \u001b[0miterable\u001b[0m\u001b[0;34m,\u001b[0m \u001b[0mmapstar\u001b[0m\u001b[0;34m,\u001b[0m \u001b[0mchunksize\u001b[0m\u001b[0;34m)\u001b[0m\u001b[0;34m.\u001b[0m\u001b[0mget\u001b[0m\u001b[0;34m(\u001b[0m\u001b[0;34m)\u001b[0m\u001b[0;34m\u001b[0m\u001b[0m\n\u001b[0m\u001b[1;32m    261\u001b[0m \u001b[0;34m\u001b[0m\u001b[0m\n\u001b[1;32m    262\u001b[0m     \u001b[0;32mdef\u001b[0m \u001b[0mstarmap\u001b[0m\u001b[0;34m(\u001b[0m\u001b[0mself\u001b[0m\u001b[0;34m,\u001b[0m \u001b[0mfunc\u001b[0m\u001b[0;34m,\u001b[0m \u001b[0miterable\u001b[0m\u001b[0;34m,\u001b[0m \u001b[0mchunksize\u001b[0m\u001b[0;34m=\u001b[0m\u001b[0;32mNone\u001b[0m\u001b[0;34m)\u001b[0m\u001b[0;34m:\u001b[0m\u001b[0;34m\u001b[0m\u001b[0m\n",
      "\u001b[0;32m/Users/kyzhang/anaconda/lib/python3.6/multiprocessing/pool.py\u001b[0m in \u001b[0;36mget\u001b[0;34m(self, timeout)\u001b[0m\n\u001b[1;32m    606\u001b[0m             \u001b[0;32mreturn\u001b[0m \u001b[0mself\u001b[0m\u001b[0;34m.\u001b[0m\u001b[0m_value\u001b[0m\u001b[0;34m\u001b[0m\u001b[0m\n\u001b[1;32m    607\u001b[0m         \u001b[0;32melse\u001b[0m\u001b[0;34m:\u001b[0m\u001b[0;34m\u001b[0m\u001b[0m\n\u001b[0;32m--> 608\u001b[0;31m             \u001b[0;32mraise\u001b[0m \u001b[0mself\u001b[0m\u001b[0;34m.\u001b[0m\u001b[0m_value\u001b[0m\u001b[0;34m\u001b[0m\u001b[0m\n\u001b[0m\u001b[1;32m    609\u001b[0m \u001b[0;34m\u001b[0m\u001b[0m\n\u001b[1;32m    610\u001b[0m     \u001b[0;32mdef\u001b[0m \u001b[0m_set\u001b[0m\u001b[0;34m(\u001b[0m\u001b[0mself\u001b[0m\u001b[0;34m,\u001b[0m \u001b[0mi\u001b[0m\u001b[0;34m,\u001b[0m \u001b[0mobj\u001b[0m\u001b[0;34m)\u001b[0m\u001b[0;34m:\u001b[0m\u001b[0;34m\u001b[0m\u001b[0m\n",
      "\u001b[0;31mServerSelectionTimeoutError\u001b[0m: localhost:27017: [Errno 61] Connection refused"
     ]
    }
   ],
   "source": [
    "import sys\n",
    "sys.path.append(\"..\")\n",
    "from multiprocessing import Pool\n",
    "\n",
    "def get_all_links_from(channel):\n",
    "    for num in range(1,101):\n",
    "        get_links_from(channel,num)\n",
    "\n",
    "if __name__ == '__main__':\n",
    "\n",
    "    pool = Pool()\n",
    "    pool.map(get_all_links_from,channel_list.split())"
   ]
  },
  {
   "cell_type": "code",
   "execution_count": null,
   "metadata": {
    "collapsed": true
   },
   "outputs": [],
   "source": []
  }
 ],
 "metadata": {
  "kernelspec": {
   "display_name": "Python 3",
   "language": "python",
   "name": "python3"
  },
  "language_info": {
   "codemirror_mode": {
    "name": "ipython",
    "version": 3
   },
   "file_extension": ".py",
   "mimetype": "text/x-python",
   "name": "python",
   "nbconvert_exporter": "python",
   "pygments_lexer": "ipython3",
   "version": "3.6.1"
  }
 },
 "nbformat": 4,
 "nbformat_minor": 2
}
