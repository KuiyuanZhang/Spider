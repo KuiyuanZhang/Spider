{
 "cells": [
  {
   "cell_type": "code",
   "execution_count": 248,
   "metadata": {
    "collapsed": true
   },
   "outputs": [],
   "source": [
    "import json\n",
    "import pandas as pd\n",
    "from pypinyin import lazy_pinyin\n",
    "\n"
   ]
  },
  {
   "cell_type": "code",
   "execution_count": 249,
   "metadata": {
    "collapsed": true
   },
   "outputs": [],
   "source": [
    "def get_city_dic(jsonFile):\n",
    "    city_dic = {}\n",
    "    with open('ChinaCityList.json') as file:\n",
    "        city = json.load(file)\n",
    "        for i in range(len(city)):\n",
    "            for j in range(len(city[i]['city'])):\n",
    "                cityName = city_dict[i]['city'][j]['name']\n",
    "                cityPinyin = (lazy_pinyin(city_dict[i]['city'][j]['name']))\n",
    "                city_dic[cityName] = cityPinyin\n",
    "    return city_dic\n",
    "             \n",
    "# for i,j in city_dic.items():\n",
    "#     print (i)\n",
    "#     print (j)\n",
    "#          print (city_dict[i]['city'][j]['county'][0]['name_en'])"
   ]
  },
  {
   "cell_type": "code",
   "execution_count": 250,
   "metadata": {
    "collapsed": true
   },
   "outputs": [],
   "source": [
    "def get_jielong(first_city):\n",
    "    city_lastname = lazy_pinyin(first_city)[-1]\n",
    "    print ('输入的城市为:'+first_city)\n",
    "    for m,n in city_dic.items():\n",
    "        if city_lastname == n[0]:\n",
    "            print (m)"
   ]
  },
  {
   "cell_type": "code",
   "execution_count": 251,
   "metadata": {
    "collapsed": true
   },
   "outputs": [],
   "source": [
    "def main(jsonFile):\n",
    "    city_dic = get_city_dic(jsonFile)\n",
    "    first_city = input(\"请输入第一个城市名：\")\n",
    "    get_jielong(first_city)"
   ]
  },
  {
   "cell_type": "code",
   "execution_count": 252,
   "metadata": {},
   "outputs": [
    {
     "name": "stdout",
     "output_type": "stream",
     "text": [
      "请输入第一个城市名：天津\n",
      "输入的城市为:天津\n",
      "锦州\n",
      "晋中\n",
      "晋城\n",
      "金昌\n",
      "金华\n"
     ]
    }
   ],
   "source": [
    "main('ChinaCityList.json')"
   ]
  },
  {
   "cell_type": "code",
   "execution_count": null,
   "metadata": {
    "collapsed": true
   },
   "outputs": [],
   "source": []
  },
  {
   "cell_type": "code",
   "execution_count": null,
   "metadata": {
    "collapsed": true
   },
   "outputs": [],
   "source": [
    "a = pd.read_json('ChinaCityList.json')\n",
    "print (a.columns)"
   ]
  },
  {
   "cell_type": "code",
   "execution_count": 38,
   "metadata": {},
   "outputs": [
    {
     "name": "stdout",
     "output_type": "stream",
     "text": [
      "天津\n"
     ]
    }
   ],
   "source": [
    "print (a['name'])"
   ]
  },
  {
   "cell_type": "code",
   "execution_count": 45,
   "metadata": {},
   "outputs": [
    {
     "name": "stdout",
     "output_type": "stream",
     "text": [
      "[{'name': '上海', 'county': [{'name': '上海', 'code': 'CN101020100', 'name_en': 'shanghai'}, {'name': '闵行', 'code': 'CN101020200', 'name_en': 'minhang'}, {'name': '宝山', 'code': 'CN101020300', 'name_en': 'baoshan'}, {'name': '嘉定', 'code': 'CN101020500', 'name_en': 'jiading'}, {'name': '浦东南汇', 'code': 'CN101020600', 'name_en': 'nanhui'}, {'name': '金山', 'code': 'CN101020700', 'name_en': 'jinshan'}, {'name': '青浦', 'code': 'CN101020800', 'name_en': 'qingpu'}, {'name': '松江', 'code': 'CN101020900', 'name_en': 'songjiang'}, {'name': '奉贤', 'code': 'CN101021000', 'name_en': 'fengxian'}, {'name': '崇明', 'code': 'CN101021100', 'name_en': 'chongming'}, {'name': '徐家汇', 'code': 'CN101021200', 'name_en': 'xujiahui'}, {'name': '浦东', 'code': 'CN101021300', 'name_en': 'pudong'}]}]\n"
     ]
    }
   ],
   "source": [
    "print (a['city'][1])"
   ]
  },
  {
   "cell_type": "code",
   "execution_count": null,
   "metadata": {
    "collapsed": true
   },
   "outputs": [],
   "source": []
  },
  {
   "cell_type": "code",
   "execution_count": null,
   "metadata": {
    "collapsed": true
   },
   "outputs": [],
   "source": []
  }
 ],
 "metadata": {
  "kernelspec": {
   "display_name": "Python 3",
   "language": "python",
   "name": "python3"
  },
  "language_info": {
   "codemirror_mode": {
    "name": "ipython",
    "version": 3
   },
   "file_extension": ".py",
   "mimetype": "text/x-python",
   "name": "python",
   "nbconvert_exporter": "python",
   "pygments_lexer": "ipython3",
   "version": "3.6.1"
  }
 },
 "nbformat": 4,
 "nbformat_minor": 2
}
