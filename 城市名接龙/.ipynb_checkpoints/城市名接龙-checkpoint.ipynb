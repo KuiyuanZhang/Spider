{
 "cells": [
  {
   "cell_type": "code",
   "execution_count": 227,
   "metadata": {},
   "outputs": [],
   "source": [
    "import json\n",
    "import pandas as pd\n",
    "from pypinyin import lazy_pinyin"
   ]
  },
  {
   "cell_type": "code",
   "execution_count": 228,
   "metadata": {},
   "outputs": [],
   "source": [
    "def get_city_dic(jsonFile):\n",
    "    city_dic = {}\n",
    "    with open('ChinaCityList.json') as file:\n",
    "        city = json.load(file)\n",
    "        for i in range(len(city)):\n",
    "            for j in range(len(city[i]['city'])):\n",
    "                cityName = city_dict[i]['city'][j]['name']\n",
    "                cityPinyin = (lazy_pinyin(city_dict[i]['city'][j]['name']))\n",
    "                city_dic[cityName] = cityPinyin\n",
    "    return city_dic\n",
    "             \n",
    "# for i,j in city_dic.items():\n",
    "#     print (i)\n",
    "#     print (j)\n",
    "#          print (city_dict[i]['city'][j]['county'][0]['name_en'])"
   ]
  },
  {
   "cell_type": "code",
   "execution_count": 229,
   "metadata": {},
   "outputs": [],
   "source": [
    "def get_jielong(first_city):\n",
    "    city_lastname = lazy_pinyin(first_city)[-1]\n",
    "    print ('输入的城市为:'+first_city)\n",
    "    for m,n in city_dic.items():\n",
    "        if city_lastname == n[0]:\n",
    "            print (m)"
   ]
  },
  {
   "cell_type": "code",
   "execution_count": 230,
   "metadata": {
    "collapsed": true
   },
   "outputs": [],
   "source": [
    "def main(jsonFile):\n",
    "    city_dic = get_city_dic(jsonFile)\n",
    "    first_city = input(\"请输入第一个城市名：\")\n",
    "    get_jielong(first_city)"
   ]
  },
  {
   "cell_type": "code",
   "execution_count": null,
   "metadata": {},
   "outputs": [],
   "source": [
    "main('ChinaCityList.json')"
   ]
  },
  {
   "cell_type": "code",
   "execution_count": null,
   "metadata": {
    "collapsed": true
   },
   "outputs": [],
   "source": []
  },
  {
   "cell_type": "code",
   "execution_count": null,
   "metadata": {},
   "outputs": [],
   "source": [
    "a = pd.read_json('ChinaCityList.json')\n",
    "print (a.columns)"
   ]
  },
  {
   "cell_type": "code",
   "execution_count": 38,
   "metadata": {},
   "outputs": [
    {
     "name": "stdout",
     "output_type": "stream",
     "text": [
      "天津\n"
     ]
    }
   ],
   "source": [
    "print (a['name'])"
   ]
  },
  {
   "cell_type": "code",
   "execution_count": 45,
   "metadata": {},
   "outputs": [
    {
     "name": "stdout",
     "output_type": "stream",
     "text": [
      "[{'name': '上海', 'county': [{'name': '上海', 'code': 'CN101020100', 'name_en': 'shanghai'}, {'name': '闵行', 'code': 'CN101020200', 'name_en': 'minhang'}, {'name': '宝山', 'code': 'CN101020300', 'name_en': 'baoshan'}, {'name': '嘉定', 'code': 'CN101020500', 'name_en': 'jiading'}, {'name': '浦东南汇', 'code': 'CN101020600', 'name_en': 'nanhui'}, {'name': '金山', 'code': 'CN101020700', 'name_en': 'jinshan'}, {'name': '青浦', 'code': 'CN101020800', 'name_en': 'qingpu'}, {'name': '松江', 'code': 'CN101020900', 'name_en': 'songjiang'}, {'name': '奉贤', 'code': 'CN101021000', 'name_en': 'fengxian'}, {'name': '崇明', 'code': 'CN101021100', 'name_en': 'chongming'}, {'name': '徐家汇', 'code': 'CN101021200', 'name_en': 'xujiahui'}, {'name': '浦东', 'code': 'CN101021300', 'name_en': 'pudong'}]}]\n"
     ]
    }
   ],
   "source": [
    "print (a['city'][1])"
   ]
  },
  {
   "cell_type": "code",
   "execution_count": null,
   "metadata": {
    "collapsed": true
   },
   "outputs": [],
   "source": [
    " "
   ]
  },
  {
   "cell_type": "code",
   "execution_count": null,
   "metadata": {
    "collapsed": true
   },
   "outputs": [],
   "source": []
  },
  {
   "cell_type": "code",
   "execution_count": null,
   "metadata": {
    "collapsed": true
   },
   "outputs": [],
   "source": []
  },
  {
   "cell_type": "code",
   "execution_count": null,
   "metadata": {
    "collapsed": true
   },
   "outputs": [],
   "source": []
  },
  {
   "cell_type": "code",
   "execution_count": null,
   "metadata": {
    "collapsed": true
   },
   "outputs": [],
   "source": []
  },
  {
   "cell_type": "code",
   "execution_count": null,
   "metadata": {},
   "outputs": [
    {
     "name": "stdout",
     "output_type": "stream",
     "text": [
      "http://www.stats.gov.cn/tjsj/tjbz/tjyqhdmhcxhfdm/2016/\n",
      "省\n",
      "http://www.stats.gov.cn/tjsj/tjbz/tjyqhdmhcxhfdm/2016/11.html\n",
      "http://www.stats.gov.cn/tjsj/tjbz/tjyqhdmhcxhfdm/2016/12.html\n",
      "http://www.stats.gov.cn/tjsj/tjbz/tjyqhdmhcxhfdm/2016/13.html\n",
      "http://www.stats.gov.cn/tjsj/tjbz/tjyqhdmhcxhfdm/2016/14.html\n",
      "http://www.stats.gov.cn/tjsj/tjbz/tjyqhdmhcxhfdm/2016/15.html\n",
      "http://www.stats.gov.cn/tjsj/tjbz/tjyqhdmhcxhfdm/2016/21.html\n",
      "http://www.stats.gov.cn/tjsj/tjbz/tjyqhdmhcxhfdm/2016/22.html\n",
      "http://www.stats.gov.cn/tjsj/tjbz/tjyqhdmhcxhfdm/2016/23.html\n",
      "http://www.stats.gov.cn/tjsj/tjbz/tjyqhdmhcxhfdm/2016/31.html\n",
      "http://www.stats.gov.cn/tjsj/tjbz/tjyqhdmhcxhfdm/2016/32.html\n",
      "http://www.stats.gov.cn/tjsj/tjbz/tjyqhdmhcxhfdm/2016/33.html\n",
      "http://www.stats.gov.cn/tjsj/tjbz/tjyqhdmhcxhfdm/2016/34.html\n",
      "http://www.stats.gov.cn/tjsj/tjbz/tjyqhdmhcxhfdm/2016/35.html\n",
      "http://www.stats.gov.cn/tjsj/tjbz/tjyqhdmhcxhfdm/2016/36.html\n",
      "http://www.stats.gov.cn/tjsj/tjbz/tjyqhdmhcxhfdm/2016/37.html\n",
      "http://www.stats.gov.cn/tjsj/tjbz/tjyqhdmhcxhfdm/2016/41.html\n",
      "http://www.stats.gov.cn/tjsj/tjbz/tjyqhdmhcxhfdm/2016/42.html\n",
      "http://www.stats.gov.cn/tjsj/tjbz/tjyqhdmhcxhfdm/2016/43.html\n",
      "http://www.stats.gov.cn/tjsj/tjbz/tjyqhdmhcxhfdm/2016/44.html\n",
      "http://www.stats.gov.cn/tjsj/tjbz/tjyqhdmhcxhfdm/2016/45.html\n",
      "http://www.stats.gov.cn/tjsj/tjbz/tjyqhdmhcxhfdm/2016/46.html\n",
      "http://www.stats.gov.cn/tjsj/tjbz/tjyqhdmhcxhfdm/2016/50.html\n",
      "http://www.stats.gov.cn/tjsj/tjbz/tjyqhdmhcxhfdm/2016/51.html\n",
      "http://www.stats.gov.cn/tjsj/tjbz/tjyqhdmhcxhfdm/2016/52.html\n",
      "http://www.stats.gov.cn/tjsj/tjbz/tjyqhdmhcxhfdm/2016/53.html\n",
      "http://www.stats.gov.cn/tjsj/tjbz/tjyqhdmhcxhfdm/2016/54.html\n",
      "http://www.stats.gov.cn/tjsj/tjbz/tjyqhdmhcxhfdm/2016/61.html\n",
      "http://www.stats.gov.cn/tjsj/tjbz/tjyqhdmhcxhfdm/2016/62.html\n",
      "http://www.stats.gov.cn/tjsj/tjbz/tjyqhdmhcxhfdm/2016/63.html\n",
      "http://www.stats.gov.cn/tjsj/tjbz/tjyqhdmhcxhfdm/2016/64.html\n",
      "http://www.stats.gov.cn/tjsj/tjbz/tjyqhdmhcxhfdm/2016/65.html\n",
      "市\n",
      "http://www.stats.gov.cn/tjsj/tjbz/tjyqhdmhcxhfdm/2016/11/11.html\n",
      "HTTP Error 404: Not Found\n",
      "'str' object has no attribute 'read'\n",
      "http://www.stats.gov.cn/tjsj/tjbz/tjyqhdmhcxhfdm/2016/12/12.html\n",
      "HTTP Error 404: Not Found\n",
      "'str' object has no attribute 'read'\n",
      "http://www.stats.gov.cn/tjsj/tjbz/tjyqhdmhcxhfdm/2016/13/13.html\n",
      "HTTP Error 404: Not Found\n",
      "'str' object has no attribute 'read'\n",
      "http://www.stats.gov.cn/tjsj/tjbz/tjyqhdmhcxhfdm/2016/14/14.html\n",
      "HTTP Error 404: Not Found\n",
      "'str' object has no attribute 'read'\n",
      "http://www.stats.gov.cn/tjsj/tjbz/tjyqhdmhcxhfdm/2016/15/15.html\n",
      "HTTP Error 404: Not Found\n",
      "'str' object has no attribute 'read'\n",
      "http://www.stats.gov.cn/tjsj/tjbz/tjyqhdmhcxhfdm/2016/21/21.html\n",
      "HTTP Error 404: Not Found\n",
      "'str' object has no attribute 'read'\n",
      "http://www.stats.gov.cn/tjsj/tjbz/tjyqhdmhcxhfdm/2016/22/22.html\n"
     ]
    }
   ],
   "source": [
    "#!/usr/bin/python3\n",
    "# -*- coding: utf-8 -*-\n",
    "# author=He\n",
    "\n",
    "\"\"\"\n",
    "通过国家统计局数据\n",
    "获取中国所有城市列表\n",
    "\"\"\"\n",
    "import sys\n",
    "import os\n",
    "import re\n",
    "from urllib import request\n",
    "from bs4 import BeautifulSoup\n",
    "\n",
    "url = 'http://www.stats.gov.cn/tjsj/tjbz/tjyqhdmhcxhfdm/2016/'\n",
    "header = {\n",
    "    'Cookie': 'AD_RS_COOKIE=20080917',\n",
    "    'User-Agent': 'Mozilla/5.0 (Windows NT 10.0; Win64; x64) \\ AppleWeb\\Kit/537.36 (KHTML, like Gecko)\\ '\n",
    "                  'Chrome/58.0.3029.110 Safari/537.36'}\n",
    "\n",
    "\n",
    "class GetHttp:\n",
    "    def __init__(self, url, headers=None, charset='utf8'):\n",
    "        if headers is None:\n",
    "            headers = {}\n",
    "        self._response = ''\n",
    "        try:\n",
    "            print(url)\n",
    "            self._response = request.urlopen(request.Request(url=url, headers=headers))\n",
    "        except Exception as e:\n",
    "            print(e)\n",
    "        self._c = charset\n",
    "\n",
    "    @property\n",
    "    def text(self):\n",
    "        try:\n",
    "            return self._response.read().decode(self._c)\n",
    "        except Exception as e:\n",
    "            print(e)\n",
    "            return ''\n",
    "\n",
    "\n",
    "def provincetr(u, he, lists):\n",
    "    # 获取全国省份和直辖市\n",
    "    t = GetHttp(u, he, 'gbk').text\n",
    "    if t:\n",
    "        soup = BeautifulSoup(t, 'html.parser')\n",
    "        for i in soup.find_all(attrs={'class': 'provincetr'}):\n",
    "            for a in i.find_all('a'):\n",
    "                id = re.sub(\"\\D\", \"\", a.get('href'))\n",
    "                lists[id] = {'id': id, 'name': a.text, 'pid': '0', 'pid1': '0', 'pid2': '0', 'pid3': '0', 'pid4': '0',\n",
    "                             'code': id}\n",
    "                # time.sleep(1 / 10)\n",
    "    return lists\n",
    "\n",
    "\n",
    "def citytr(u, he, lists):\n",
    "    # 获取省下级市\n",
    "    l = lists.copy()\n",
    "    for i in l:\n",
    "        t = GetHttp(u+i+'.html', he, 'gbk').text\n",
    "        if not t:\n",
    "            continue\n",
    "        soup = BeautifulSoup(t, 'html.parser')\n",
    "        for v in soup.find_all(attrs={'class': 'citytr'}):\n",
    "            id = str(v.find_all('td')[0].text)\n",
    "            if id[0:4] not in lists.keys():\n",
    "                lists[id[0:4]] = {'id': id[0:4], 'name': str(v.find_all('td')[1].text),\n",
    "                                  'pid': '0', 'pid1': i, 'pid2': '0', 'pid3': '0', 'pid4': '0', 'code': id}\n",
    "    return lists\n",
    "\n",
    "\n",
    "def countytr(u, he, lists):\n",
    "    # 获取市下级县\n",
    "    l = lists.copy()\n",
    "    a = {}\n",
    "    for i in l:\n",
    "        t = GetHttp(u+i[0:2]+'/'+i+'.html', he, 'gbk').text\n",
    "        if not t:\n",
    "            continue\n",
    "        soup = BeautifulSoup(t, 'html.parser')\n",
    "        for v in soup.find_all(attrs={'class': 'countytr'}):\n",
    "            id = str(v.find_all('td')[0].text)\n",
    "            if id[0:6] not in lists.keys():\n",
    "                lists[id[0:6]] = {'id': id[0:6], 'name': str(v.find_all('td')[1].text),\n",
    "                                  'pid': '0', 'pid1': l[i]['pid1'], 'pid2': i, 'pid3': '0', 'pid4': '0', 'code': id}\n",
    "    return lists\n",
    "\n",
    "\n",
    "def towntr(u, he, lists):\n",
    "    # 县下级镇\n",
    "    l = lists.copy()\n",
    "    for i in l:\n",
    "        t = GetHttp(u+i[0:2]+'/'+i[2:4]+'/'+i+'.html', he, 'gbk').text\n",
    "        if not t:\n",
    "            continue\n",
    "        soup = BeautifulSoup(t, 'html.parser')\n",
    "        for v in soup.find_all(attrs={'class': 'towntr'}):\n",
    "            id = str(v.find_all('td')[0].text)\n",
    "            if id[0:9] not in lists.keys():\n",
    "                lists[id[0:9]] = {'id': id[0:9], 'name': str(v.find_all('td')[1].text), 'pid': '0',\n",
    "                                  'pid1': l[i]['pid1'], 'pid2': l[i]['pid2'], 'pid3': i, 'pid4': '0', 'code': id}\n",
    "    return lists\n",
    "\n",
    "\n",
    "def villagetr(u, he, lists):\n",
    "    # 镇下级村\n",
    "    l = lists.copy()\n",
    "    for i in l:\n",
    "        t = GetHttp(u+i[0:2]+'/'+i[2:4]+'/'+i[4:6]+'/'+i+'.html', he, 'gbk').text\n",
    "        if not t:\n",
    "            continue\n",
    "        soup = BeautifulSoup(t, 'html.parser')\n",
    "        for v in soup.find_all(attrs={'class': 'villagetr'}):\n",
    "            id = str(v.find_all('td')[0].text)\n",
    "            if id[0:12] not in lists.keys():\n",
    "                lists[id[0:12]] = {'id': id[0:12], 'name': str(v.find_all('td')[1].text), 'pid': '0',\n",
    "                                   'pid1': l[i]['pid1'], 'pid2': l[i]['pid2'], 'pid3': l[i]['pid2'], 'pid4': i,\n",
    "                                   'code': id}\n",
    "    return lists\n",
    "p = provincetr(u=url, he=header, lists={})\n",
    "print('省')\n",
    "c = citytr(u=url, he=header, lists=p)\n",
    "print('市')\n",
    "o = countytr(u=url, he=header, lists=c)\n",
    "print('县')\n",
    "t = towntr(u=url, he=header, lists=o)\n",
    "print('镇')\n",
    "v = villagetr(u=url, he=header, lists=t)\n",
    "print('村')"
   ]
  },
  {
   "cell_type": "code",
   "execution_count": 4,
   "metadata": {},
   "outputs": [
    {
     "name": "stdout",
     "output_type": "stream",
     "text": [
      "下面是中国的省份直辖市，输入代号或者省市可查看更多。\n"
     ]
    },
    {
     "ename": "FileNotFoundError",
     "evalue": "[Errno 2] No such file or directory: './pcd_dic/province.txt'",
     "output_type": "error",
     "traceback": [
      "\u001b[0;31m-\u001b[0m",
      "\u001b[0;31mFileNotFoundError\u001b[0mTraceback (most recent call last)",
      "\u001b[0;32m<ipython-input-4-f68156f6242d>\u001b[0m in \u001b[0;36m<module>\u001b[0;34m()\u001b[0m\n\u001b[1;32m     77\u001b[0m \u001b[0mprint\u001b[0m \u001b[0;34m(\u001b[0m\u001b[0;34m\"下面是中国的省份直辖市，输入代号或者省市可查看更多。\"\u001b[0m\u001b[0;34m)\u001b[0m\u001b[0;34m\u001b[0m\u001b[0m\n\u001b[1;32m     78\u001b[0m \u001b[0;32mwhile\u001b[0m \u001b[0;32mTrue\u001b[0m\u001b[0;34m:\u001b[0m\u001b[0;34m\u001b[0m\u001b[0m\n\u001b[0;32m---> 79\u001b[0;31m     \u001b[0ma\u001b[0m\u001b[0;34m=\u001b[0m\u001b[0mlist_all_province\u001b[0m\u001b[0;34m(\u001b[0m\u001b[0;34m)\u001b[0m\u001b[0;34m\u001b[0m\u001b[0m\n\u001b[0m\u001b[1;32m     80\u001b[0m     \u001b[0minput_province_choice\u001b[0m\u001b[0;34m(\u001b[0m\u001b[0ma\u001b[0m\u001b[0;34m)\u001b[0m\u001b[0;34m\u001b[0m\u001b[0m\n\u001b[1;32m     81\u001b[0m     \u001b[0mquit_or_continue\u001b[0m \u001b[0;34m=\u001b[0m \u001b[0mraw_input\u001b[0m\u001b[0;34m(\u001b[0m\u001b[0;34m\"是否要继续查询？yes/no\"\u001b[0m\u001b[0;34m)\u001b[0m\u001b[0;34m\u001b[0m\u001b[0m\n",
      "\u001b[0;32m<ipython-input-4-f68156f6242d>\u001b[0m in \u001b[0;36mlist_all_province\u001b[0;34m()\u001b[0m\n\u001b[1;32m     13\u001b[0m \u001b[0;31m# 列出所有的省\u001b[0m\u001b[0;34m\u001b[0m\u001b[0;34m\u001b[0m\u001b[0m\n\u001b[1;32m     14\u001b[0m \u001b[0;32mdef\u001b[0m \u001b[0mlist_all_province\u001b[0m\u001b[0;34m(\u001b[0m\u001b[0;34m)\u001b[0m\u001b[0;34m:\u001b[0m\u001b[0;34m\u001b[0m\u001b[0m\n\u001b[0;32m---> 15\u001b[0;31m     \u001b[0;32mwith\u001b[0m \u001b[0mopen\u001b[0m\u001b[0;34m(\u001b[0m\u001b[0;34m\"./pcd_dic/province.txt\"\u001b[0m\u001b[0;34m,\u001b[0m\u001b[0;34m'r'\u001b[0m\u001b[0;34m)\u001b[0m\u001b[0;32mas\u001b[0m \u001b[0mf1\u001b[0m\u001b[0;34m:\u001b[0m\u001b[0;34m\u001b[0m\u001b[0m\n\u001b[0m\u001b[1;32m     16\u001b[0m         \u001b[0mcontent\u001b[0m \u001b[0;34m=\u001b[0m \u001b[0mf1\u001b[0m\u001b[0;34m.\u001b[0m\u001b[0mreadlines\u001b[0m\u001b[0;34m(\u001b[0m\u001b[0;34m)\u001b[0m\u001b[0;34m\u001b[0m\u001b[0m\n\u001b[1;32m     17\u001b[0m         \u001b[0mprint\u001b[0m \u001b[0;34m(\u001b[0m\u001b[0;34m\"代号       名称\"\u001b[0m\u001b[0;34m)\u001b[0m\u001b[0;34m\u001b[0m\u001b[0m\n",
      "\u001b[0;31mFileNotFoundError\u001b[0m: [Errno 2] No such file or directory: './pcd_dic/province.txt'"
     ]
    }
   ],
   "source": [
    "'''\n",
    "所使用的文件格式是\n",
    "110000  北京市  0\n",
    "代号  名称  上级代号\n",
    "\n",
    "'''\n",
    "# 判断输入的是否是exit或者quit \n",
    "def if_quit(cmd_str):\n",
    "    if cmd_str == \"quit\" or cmd_str == \"exit\":\n",
    "        print (\"感谢您的使用\")\n",
    "        return quit \n",
    "\n",
    "# 列出所有的省\n",
    "def list_all_province():\n",
    "    with open(\"./pcd_dic/province.txt\",'r')as f1:\n",
    "        content = f1.readlines()\n",
    "        print (\"代号       名称\")\n",
    "        for i in content:       \n",
    "            print (\"%s       %s\" %(i.split()[0],i.split()[1]))\n",
    "        return content\n",
    "\n",
    "#输入要查看的省\n",
    "def input_province_choice(province_content):\n",
    "    user_choice_province = raw_input(\"输入您要查看的省（代码或者名称）：\")\n",
    "    #if_quit(user_choice_province)\n",
    "    province_result = \"\"\n",
    "    for i in province_content:\n",
    "        if user_choice_province == i.split()[0] or user_choice_province == i.split()[1]:\n",
    "            province_result = i\n",
    "            print (\"您要查看的是 %s\" %province_result.split()[1])\n",
    "            city_content = list_choice_province_city(\"./pcd_dic/city.txt\",province_result.split()[0])\n",
    "            input_city_choice(city_content)\n",
    "    if province_result == \"\":\n",
    "        print (\"您输入有误，请重新输入\")\n",
    "        input_province_choice(province_content)\n",
    "\n",
    "\n",
    "#列出所有市  \n",
    "def list_choice_province_city(filepath,result_code):\n",
    "    with open(filepath,'r') as f2:\n",
    "        city_content = f2.readlines()\n",
    "        print (\"包含有以下市：\")\n",
    "        for i in city_content:\n",
    "            if i.split()[2] == result_code:\n",
    "                print (\" %s       %s\" %(i.split()[0],i.split()[1]))   \n",
    "                continue\n",
    "        return city_content\n",
    "\n",
    "\n",
    "#输入要选择的市\n",
    "def input_city_choice(city_content):\n",
    "    user_choice_city = raw_input(\"输入您要查看的市（代码或者名称）：\")\n",
    "    #if_quit(user_choice_city)\n",
    "    city_result = \"\"\n",
    "    for i in city_content:\n",
    "        if user_choice_city == i.split()[0] or user_choice_city == i.split()[1]:\n",
    "            city_result = i\n",
    "            print (\"您要查看的是 %s\" %city_result.split()[1])\n",
    "            list_choice_city_district(\"./pcd_dic/district.txt\",city_result.split()[0])\n",
    "            break\n",
    "    if city_result == \"\":\n",
    "        print (\"您输入城市有误请重新输入\")\n",
    "        input_city_choice(city_content)\n",
    "\n",
    "\n",
    "# 列出选择市的县区\n",
    "def list_choice_city_district(filepath,result_code):\n",
    "    with open(filepath,'r') as f:\n",
    "        content = f.readlines()\n",
    "        print (\"包含有以下区县：\")\n",
    "        for i in content:\n",
    "            if i.split()[2] == result_code:\n",
    "                print (\"     %s       %s\" %(i.split()[0],i.split()[1]))\n",
    "                continue\n",
    "\n",
    "\n",
    "print (\"下面是中国的省份直辖市，输入代号或者省市可查看更多。\")\n",
    "while True:\n",
    "    a=list_all_province()\n",
    "    input_province_choice(a)\n",
    "    quit_or_continue = raw_input(\"是否要继续查询？yes/no\")\n",
    "    if quit_or_continue == \"yes\":\n",
    "        continue\n",
    "    else:\n",
    "        print (\"感谢您的使用\")\n",
    "        break\n"
   ]
  },
  {
   "cell_type": "code",
   "execution_count": null,
   "metadata": {
    "collapsed": true
   },
   "outputs": [],
   "source": []
  }
 ],
 "metadata": {
  "kernelspec": {
   "display_name": "Python 3",
   "language": "python",
   "name": "python3"
  },
  "language_info": {
   "codemirror_mode": {
    "name": "ipython",
    "version": 3
   },
   "file_extension": ".py",
   "mimetype": "text/x-python",
   "name": "python",
   "nbconvert_exporter": "python",
   "pygments_lexer": "ipython3",
   "version": "3.6.1"
  }
 },
 "nbformat": 4,
 "nbformat_minor": 2
}
