{
 "cells": [
  {
   "cell_type": "code",
   "execution_count": null,
   "metadata": {
    "collapsed": true
   },
   "outputs": [],
   "source": [
    "import csv\n",
    "\n",
    "class simple_csv:\n",
    "    def __init__(self, filename):\n",
    "        self.csv_file = open(filename, 'a+')\n",
    "        self.csv_writer = csv.writer(self.csv_file, delimiter=' ', quotechar='|', quoting=csv.QUOTE_MINIMAL)\n",
    "\n",
    "    def write(self, value):\n",
    "        write_str = list()\n",
    "        if type(value) == type(list()):\n",
    "            for each in value:\n",
    "                write_str.append(each)\n",
    "        else:\n",
    "            write_str.append(value)\n",
    "        self.csv_writer.writerow(write_str)\n",
    "\n",
    "    def close(self):\n",
    "        self.csv_file.close()\n",
    "\n",
    "class dict_csv:\n",
    "    def __init__(self,filename,headers):\n",
    "        if type(headers) is not type(list()):\n",
    "            print(\"headers param must be list type\")\n",
    "            return\n",
    "        self.csv_file = open(filename, 'a+')\n",
    "        self.csv_writer = csv.DictWriter(self.csv_file, fieldnames=headers)\n",
    "        self.csv_writer.writeheader()\n",
    "\n",
    "    def write(self,value):\n",
    "        if type(value) is not type(dict()):\n",
    "            print(\"value param must be dict type while headers param is avaliable\")\n",
    "        self.csv_writer.writerow(value)\n",
    "\n",
    "    def close(self):\n",
    "        self.csv_file.close()\n",
    "\n",
    "def read(filename):\n",
    "    with open(filename, 'r+', newline='') as csv_file:\n",
    "        reader = csv.reader(csv_file, delimiter=' ', quotechar='|')\n",
    "        return [row for row in reader]\n",
    "\n",
    "if __name__ == '__main__':\n",
    "    a= simple_csv('list.csv')\n",
    "    a.write([1,2,3])\n",
    "    a.write('567')\n",
    "    a.write(['我爱你','2313'])\n",
    "    a.close()\n",
    "    b = read('list.csv')\n",
    "    print(b)\n",
    "\n",
    "    a1 = dict_csv('dict.csv',['name','gender','age'])\n",
    "    a1.write({\"name\":\"leo\",\"age\":23,\"gender\":1})\n",
    "    a1.write({\"name\":\"lynn\",\"gender\":0,\"age\":23})\n",
    "    a1.write({\"name\": \"zhangwei\", \"gender\": 0})\n",
    "    a1.write({\"name\": \"ting\", \"age\": 20})\n",
    "    a1.close()\n",
    "    b1 = read('dict.csv')\n",
    "    print(b1)"
   ]
  }
 ],
 "metadata": {
  "kernelspec": {
   "display_name": "Python 3",
   "language": "python",
   "name": "python3"
  },
  "language_info": {
   "codemirror_mode": {
    "name": "ipython",
    "version": 3
   },
   "file_extension": ".py",
   "mimetype": "text/x-python",
   "name": "python",
   "nbconvert_exporter": "python",
   "pygments_lexer": "ipython3",
   "version": "3.6.1"
  }
 },
 "nbformat": 4,
 "nbformat_minor": 2
}
